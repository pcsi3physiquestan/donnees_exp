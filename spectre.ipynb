{
 "cells": [
  {
   "cell_type": "markdown",
   "metadata": {},
   "source": [
    "# Signaux sinusoïdaux et spectre avec Python\n",
    "\n",
    "En classes préparatoires, un partie de l'enseignement de la physique concernant l'utilisation de Python pour des méthodes numériques, des tracés graphiques et des détermination d'incertitude de mesure. Ces études se basent sur l'utilisation de Python qui a été faite au lycée (mathématiques) augmentée de celle faite durant le cours d'informatique commune en prépa et de l'utilisation des __bibliothèques numériques numpy, scipy et matplotlib__ qui sont adaptées à l'étude des systèmes physiques.\n",
    "\n",
    "Nous allons voir ici quelques exemples d'utilisation. En classes préparatoires, on apprend à écrire complètement les instructions ci-après mais, vous n'aurez qu'à compléter du code déjà existant.\n",
    "\n",
    "*Le fichier que vous utilisez à l'heure actuelle est appelle __Notebook Jypyter__. Il permet de mélanger des cellules de texte comme celle-ci à des cellules de code comme ci-après. Lorsque vous voulez exécutez une cellule de code, il faut y placer le curseur et appuyer sur __SHIFT+Entrée__.*"
   ]
  },
  {
   "cell_type": "code",
   "execution_count": null,
   "metadata": {},
   "outputs": [],
   "source": [
    "# Ceci est une cellule de code. Cette ligne est un commentaire. L'interpréteur Python n'en tient pas compte.\n",
    "\n",
    "from numpy import *  # Cette bibliothèque importe des fonctions et objets qui sont utiles à l'étude des systèmes phyiques.\n",
    "from matplotlib.pyplot import *  # Cette bibliothèque importe des fonctinos et objets qui sont aux tracés graphiques\n",
    "\n",
    "# Cliquez dans cette cellule et exécutez là.\n",
    "print('Bibliothèques correctement importées')"
   ]
  },
  {
   "cell_type": "markdown",
   "metadata": {},
   "source": [
    "## Tracé d'un sinusoïde\n",
    "On va commencer simplement en traçant l'allure d'un sinusoïde seul (son pur en acoustique et lumière monochromatique, une seule longueur d'onde, en optique) soit:\n",
    "\n",
    "$$\n",
    "s(t) = s_m \\cos (2 \\pi f t)\n",
    "$$\n",
    "\n",
    "__Pour un signal lumineux visible, $f \\sim 10^{14}Hz$ mais pour des raisons d'échelle, on considèrera que la fréquence du signal est $f = 10Hz$.__"
   ]
  },
  {
   "cell_type": "code",
   "execution_count": null,
   "metadata": {},
   "outputs": [],
   "source": [
    "# Les lignes à modifier sont précisées\n",
    "T = 1 # A MODIFIER. Entrer ici en secondes la valeurs de la période du signal.\n",
    "sm = 10  # On choisit sm = 10\n",
    "\n",
    "temps = linspace(0, 3*T, 1000)  # Python ne peut tracer qu'une série de point qu'il va relier. On définit ici les points où calculer s(t) : 1000 points entre 0 et 3T (sur 3 périodes). C'est la bibliothèque numpy qui permet ceci.\n",
    "signal = sm * cos(2 * pi * f * temps)  # On calcule les valeurs de s(t) aux différents instants. La bibliothèque numpy permet de le faire en une ligne (au lieu d'utiliser une boucle).\n",
    "\n",
    "plot(temps, signal)  # Tracé de la fonction\n",
    "grid()  # Ajout d'une grille\n",
    "\"\"\"Légende des axes\"\"\"\n",
    "xlabel(\"t(s)\")\n",
    "ylabel(\"s(S.I.)\")\n",
    "show()  # Pour lui faire afficher le graphique\n",
    "\n",
    "# Après avoir modifié la ligne demandée, exécutez la cellule."
   ]
  },
  {
   "cell_type": "markdown",
   "metadata": {},
   "source": [
    "Et la... ça ne fonctionne pas.\n",
    "Essayez de comprendre le message d'erreur et de modifier le code en conséquence."
   ]
  },
  {
   "cell_type": "markdown",
   "metadata": {},
   "source": [
    "# Construction d'un signal à partir de son spectre\n",
    "\n",
    "Nous allons voir ici une écriture mathématique de la décomposition spectrale (=décomposition d'un signal en une somme de sinusoïdes de fréquences différente) et grâce à Python, observer comment cette somme redonne bien le signal attendu.\n",
    "\n",
    "\n",
    "### Signal triangle\n",
    "On s'intéresse à une signal triangle de fréquence $f_1$ dont le tracé est donné ci-dessous. On pourrait donner une forme mathématique à $s(t)$ (sous forme de fonction définie par morceau) mais ça n'a pas d'utilité ici.\n",
    "\n",
    "![Signal triangle](triangle.gif)\n",
    "\n",
    "### Spectre du signal triangle\n",
    "Le spectre du signal triangle est discret (faire l'analogie avec le spectre de la lampe spectrale). On peut donc l'écrire sous la forme d'une somme $\\Sigma$. Mais comme il y a une infinité de fréquence dans son spectre... il faut prendre une limite:\n",
    "\n",
    "$$\n",
    "s(t) = \\lim_{N \\to + \\infty} \\Sigma_{k=1}^{k=N} \\frac{8U}{\\pi^2 (2k-1)} \\sin \\left(2 \\pi f_k t \\right)\n",
    "$$\n",
    "avec $f_k = (2k - 1) f_1$ avec $f_1$ la fréquence du signal triangle (comme représenté sur la figure.)"
   ]
  },
  {
   "cell_type": "markdown",
   "metadata": {},
   "source": [
    "Python ne peut pas calculer une somme infinie mais il peut calculer la somme des N premiers termes. L'objectif est, en augmentant $N$ de voir si l'on tend effectivement vers le signal triangle.\n",
    "\n",
    "Vous devez modifier la cellule ci-dessous aux lignes demandées pour obtenir le tracé de la somme pour différentes valeurs de $N$. Relancez la cellule autant de fois que nécessaire pour observer $s(t)$ pour $N=1; N=2; N=4; N=10$."
   ]
  },
  {
   "cell_type": "code",
   "execution_count": null,
   "metadata": {},
   "outputs": [],
   "source": [
    "# Les lignes à modifier sont précisées\n",
    "f1 = 10 # On choisit f1 = 10Hz\n",
    "U = 10  # On choisit U = 10\n",
    "T = 1 / f1  # Calcul de la période du triangle pour tracer sur 3 périodes.\n",
    "\n",
    "# Cette fois, pour calculer la somme de N termes, on va utiliser une boucle parcourue N fois.\n",
    "N = 10  # A MODIFIER. Entrer ici le nombre de termes de la somme voulue.\n",
    "s = 0  # Initialisation de s à une valeur nulle.\n",
    "temps = linspace(0, 3*T, 1000)  # Python ne peut tracer qu'une série de point qu'il va relier. On définit ici les points où calculer s(t) : 1000 points entre 0 et 3T (sur 3 périodes). C'est la bibliothèque numpy qui permet ceci.\n",
    "for i in range(1, N + 1): # Syntaxe pour parcourir la boucle N fois\n",
    "    s = s + (8 * U) / (pi ** 2 * (2 *i - 1) ** 2) * cos(2 * pi * f1  * temps)  # A MODIFIER On ajoute une composante à chaque fois. Mais la fréquence n'est pas bonne, MODIFIEZ LA.\n",
    "\n",
    "plot(temps, s)  # Tracé de la fonction\n",
    "grid()  # Ajout d'une grille\n",
    "\"\"\"Légende des axes\"\"\"\n",
    "xlabel(\"t(s)\")\n",
    "ylabel(\"s(S.I.)\")\n",
    "show()  # Pour lui faire afficher le graphique\n",
    "\n",
    "# Après avoir modifié les lignes demandées, exécutez la cellule."
   ]
  },
  {
   "cell_type": "markdown",
   "metadata": {},
   "source": [
    "Après avoir testé plusieurs valeurs de N, vous pouvez enlever le carré au `(2i - 1) ** 2` et voir le signal qu'on obtient. On parle de signal créneau."
   ]
  },
  {
   "cell_type": "markdown",
   "metadata": {},
   "source": [
    "_Pour aller plus loin :_ En classes préparatoires, nous étudierons aussi l'effet des filtres (optique, électronique) sur de tels signaux en résonant complètement sur les fréquences. Un filtre annule (presque) l'amplitude de certaines fréquences et le choix de la bande \"coupée\" est en général en fonction des besoins."
   ]
  },
  {
   "cell_type": "markdown",
   "metadata": {},
   "source": []
  }
 ],
 "metadata": {
  "kernelspec": {
   "display_name": "base",
   "language": "python",
   "name": "python3"
  },
  "language_info": {
   "codemirror_mode": {
    "name": "ipython",
    "version": 3
   },
   "file_extension": ".py",
   "mimetype": "text/x-python",
   "name": "python",
   "nbconvert_exporter": "python",
   "pygments_lexer": "ipython3",
   "version": "3.11.5"
  }
 },
 "nbformat": 4,
 "nbformat_minor": 2
}
