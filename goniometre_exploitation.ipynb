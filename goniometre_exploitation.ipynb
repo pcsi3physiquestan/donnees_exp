{
 "cells": [
  {
   "cell_type": "markdown",
   "id": "56ff83b7",
   "metadata": {},
   "source": [
    "# Goniomètre - Exploitation des données expérimentales\n",
    "\n",
    "Dans cette activité, vous devrez utiliser des données expérimentales obtenues lors de manipulations identiques à celles réalisées en TP pour:\n",
    "* Etalonner un goniomètre à prisme en déterminant les paramètres A et B de la loi de Cauchy\n",
    "$$\n",
    "n(\\lambda) = A + \\frac{B}{\\lambda^2}\n",
    "$$\n",
    "* Utiliser ces courbes d'étalonnage pour obtenir la longueur d'onde moyenne du doublet du sodium (qui ne pouvait être résolu par le prisme).\n",
    "* Obtenir, de la mesure de longueur d'onde moyenne précédente ET de la mesure de déviation par une goniomètre à réseau le nombre de traits/mm N du réseau\n",
    "* Utiliser la longueur d'onde moyenne du doublet et les mesures séparées des angles de déviation pour chaque longueur d'onde du doublet pour obtenir la largeur $\\Delta \\lambda$ du doublet du sodium au réseau.\n",
    "\n",
    "__N'oubliez pas d'exploiter vos résultats.__"
   ]
  },
  {
   "cell_type": "markdown",
   "id": "c716924e",
   "metadata": {},
   "source": [
    "## Données expérimentales\n",
    "Les données expérimentales sont entrées dans la cellule de code suivante.  \n",
    "_La partie utilisant la bibliothèque pandas n'est pas à connaître. Elle sert juste ici pour mettre en forme l'affichage des résultats._\n",
    "\n",
    "__Notes sur les incertitudes:__  \n",
    "* On considèrera l'incertitude sur toutes les longueurs d'onde _référencées_ comme négligeables.\n",
    "* les `delta` données ne correspondent pas à l'incertitude des mesurandes directes mais __à la demi-largeur de la distribution uniforme estimée lors de la mesure.__\n",
    "    * Conséquence pour une simulation de Monte-Carlo : vous pouvez utiliser directement ces demi-largeur.\n",
    "    * Conséquence pour une propagation des variances : l'incertitude-type associée est alors $\\frac{demi-largeur}{\\sqrt{3}}$\n",
    "* On a considéré que l'incertitude à la lecture des angles était la seule source d'incertitude."
   ]
  },
  {
   "cell_type": "code",
   "execution_count": 37,
   "id": "86c2f697",
   "metadata": {},
   "outputs": [],
   "source": [
    "# Bibliothèques scientifiques\n",
    "import numpy as np\n",
    "import matplotlib.pyplot as plt\n",
    "\n",
    "# Goniomètre - Faisceau incident\n",
    "theta0 = 2.6011  # Angle repéré (rad) pour la visée du faisceau incident\n",
    "deltatheta0 = 5e-4  # Demie-largeur (rad) associée à la mesure de theta0\n",
    "\n",
    "# Goniomètre - Mesure de l'angle A\n",
    "thetas_A = np.array([0.4608, 2.554])  # Angles aux normales des faces du prisme\n",
    "deltathetas_A = np.array([5e-4]*2)  # Demie-largeur sur les incertitudes des mesures précédentes.\n",
    "\n",
    "\n",
    "# Goniomètre à prisme - Cas du mercure\n",
    "lambda_Hg = np.array([404.7, 407.8, 435.8, 491.6, 546.1, 578])  # Longueurs d'onde (nm) du mercure\n",
    "theta_Hg = np.array([0.7374, 0.7368, 0.7322, 0.7252, 0.7191, 0.7170])  # Angles sous lequel sont observés les rayons déviés (rad) mesurés\n",
    "deltatheta_Hg = np.array([5e-4]*6)  # Demie-largeur (rad) associée à l'incertitude les mesures des angles précédents\n",
    "\n",
    "# Goniomètre à prisme - Cas du sodium\n",
    "theta_Na = 3.3176  # Angle sous lequel était observé le doublet (= une seule raie ici)\n",
    "deltatheta_Na = 5e-4  # Demie-largeur (rad) associée à l'incertitude sur la mesure précédente\n",
    "\n",
    "# Goniomètre à réseau - Cas du sodium\n",
    "lambda_Na_moy = 589.3  # Longueur d'onde moyenne (nm) du doublet du sodium\n",
    "p = -2  # Ordre d'interférence observé\n",
    "theta_Na_r = np.array([1.805, 1.806]) # Angle d'observation des deux raies du doublet pour l'ordre précédent.\n",
    "deltatheta_Na_r = np.array([5e-4]*2)  # Demie-largeur (rad) associée aux incertitudes sur les mesures précédentes."
   ]
  },
  {
   "cell_type": "code",
   "execution_count": 38,
   "id": "232212d8",
   "metadata": {},
   "outputs": [
    {
     "name": "stdout",
     "output_type": "stream",
     "text": [
      "----MESURE DE L'ANGLE DE REFERENCE----\n"
     ]
    },
    {
     "data": {
      "text/html": [
       "<div>\n",
       "<style scoped>\n",
       "    .dataframe tbody tr th:only-of-type {\n",
       "        vertical-align: middle;\n",
       "    }\n",
       "\n",
       "    .dataframe tbody tr th {\n",
       "        vertical-align: top;\n",
       "    }\n",
       "\n",
       "    .dataframe thead th {\n",
       "        text-align: right;\n",
       "    }\n",
       "</style>\n",
       "<table border=\"1\" class=\"dataframe\">\n",
       "  <thead>\n",
       "    <tr style=\"text-align: right;\">\n",
       "      <th></th>\n",
       "      <th>$\\theta_0$</th>\n",
       "      <th>$\\Delta \\theta_0$</th>\n",
       "    </tr>\n",
       "  </thead>\n",
       "  <tbody>\n",
       "    <tr>\n",
       "      <th>0</th>\n",
       "      <td>2.6011</td>\n",
       "      <td>0.0005</td>\n",
       "    </tr>\n",
       "  </tbody>\n",
       "</table>\n",
       "</div>"
      ],
      "text/plain": [
       "   $\\theta_0$  $\\Delta \\theta_0$\n",
       "0      2.6011             0.0005"
      ]
     },
     "metadata": {},
     "output_type": "display_data"
    },
    {
     "name": "stdout",
     "output_type": "stream",
     "text": [
      "----MESURES DES ANGLES POUR LA MESURE DE A----\n"
     ]
    },
    {
     "data": {
      "text/html": [
       "<div>\n",
       "<style scoped>\n",
       "    .dataframe tbody tr th:only-of-type {\n",
       "        vertical-align: middle;\n",
       "    }\n",
       "\n",
       "    .dataframe tbody tr th {\n",
       "        vertical-align: top;\n",
       "    }\n",
       "\n",
       "    .dataframe thead th {\n",
       "        text-align: right;\n",
       "    }\n",
       "</style>\n",
       "<table border=\"1\" class=\"dataframe\">\n",
       "  <thead>\n",
       "    <tr style=\"text-align: right;\">\n",
       "      <th></th>\n",
       "      <th>$\\theta_{A}$</th>\n",
       "      <th>$\\Delta \\theta_A$</th>\n",
       "    </tr>\n",
       "  </thead>\n",
       "  <tbody>\n",
       "    <tr>\n",
       "      <th>0</th>\n",
       "      <td>0.4608</td>\n",
       "      <td>0.0005</td>\n",
       "    </tr>\n",
       "    <tr>\n",
       "      <th>1</th>\n",
       "      <td>2.5540</td>\n",
       "      <td>0.0005</td>\n",
       "    </tr>\n",
       "  </tbody>\n",
       "</table>\n",
       "</div>"
      ],
      "text/plain": [
       "   $\\theta_{A}$  $\\Delta \\theta_A$\n",
       "0        0.4608             0.0005\n",
       "1        2.5540             0.0005"
      ]
     },
     "metadata": {},
     "output_type": "display_data"
    },
    {
     "name": "stdout",
     "output_type": "stream",
     "text": [
      "----MESURES DES ANGLES POUR LE MERCURE----\n"
     ]
    },
    {
     "data": {
      "text/html": [
       "<div>\n",
       "<style scoped>\n",
       "    .dataframe tbody tr th:only-of-type {\n",
       "        vertical-align: middle;\n",
       "    }\n",
       "\n",
       "    .dataframe tbody tr th {\n",
       "        vertical-align: top;\n",
       "    }\n",
       "\n",
       "    .dataframe thead th {\n",
       "        text-align: right;\n",
       "    }\n",
       "</style>\n",
       "<table border=\"1\" class=\"dataframe\">\n",
       "  <thead>\n",
       "    <tr style=\"text-align: right;\">\n",
       "      <th></th>\n",
       "      <th>$\\lambda$</th>\n",
       "      <th>$\\theta_{Hg}$</th>\n",
       "      <th>$\\Delta \\theta_{Hg}$</th>\n",
       "    </tr>\n",
       "  </thead>\n",
       "  <tbody>\n",
       "    <tr>\n",
       "      <th>0</th>\n",
       "      <td>404.7</td>\n",
       "      <td>0.7374</td>\n",
       "      <td>0.0005</td>\n",
       "    </tr>\n",
       "    <tr>\n",
       "      <th>1</th>\n",
       "      <td>407.8</td>\n",
       "      <td>0.7368</td>\n",
       "      <td>0.0005</td>\n",
       "    </tr>\n",
       "    <tr>\n",
       "      <th>2</th>\n",
       "      <td>435.8</td>\n",
       "      <td>0.7322</td>\n",
       "      <td>0.0005</td>\n",
       "    </tr>\n",
       "    <tr>\n",
       "      <th>3</th>\n",
       "      <td>491.6</td>\n",
       "      <td>0.7252</td>\n",
       "      <td>0.0005</td>\n",
       "    </tr>\n",
       "    <tr>\n",
       "      <th>4</th>\n",
       "      <td>546.1</td>\n",
       "      <td>0.7191</td>\n",
       "      <td>0.0005</td>\n",
       "    </tr>\n",
       "    <tr>\n",
       "      <th>5</th>\n",
       "      <td>578.0</td>\n",
       "      <td>0.7170</td>\n",
       "      <td>0.0005</td>\n",
       "    </tr>\n",
       "  </tbody>\n",
       "</table>\n",
       "</div>"
      ],
      "text/plain": [
       "   $\\lambda$  $\\theta_{Hg}$  $\\Delta \\theta_{Hg}$\n",
       "0      404.7         0.7374                0.0005\n",
       "1      407.8         0.7368                0.0005\n",
       "2      435.8         0.7322                0.0005\n",
       "3      491.6         0.7252                0.0005\n",
       "4      546.1         0.7191                0.0005\n",
       "5      578.0         0.7170                0.0005"
      ]
     },
     "metadata": {},
     "output_type": "display_data"
    },
    {
     "name": "stdout",
     "output_type": "stream",
     "text": [
      "----MESURE DE L'ANGLE POUR LE SODIUM----\n"
     ]
    },
    {
     "data": {
      "text/html": [
       "<div>\n",
       "<style scoped>\n",
       "    .dataframe tbody tr th:only-of-type {\n",
       "        vertical-align: middle;\n",
       "    }\n",
       "\n",
       "    .dataframe tbody tr th {\n",
       "        vertical-align: top;\n",
       "    }\n",
       "\n",
       "    .dataframe thead th {\n",
       "        text-align: right;\n",
       "    }\n",
       "</style>\n",
       "<table border=\"1\" class=\"dataframe\">\n",
       "  <thead>\n",
       "    <tr style=\"text-align: right;\">\n",
       "      <th></th>\n",
       "      <th>$\\theta_{Na}$</th>\n",
       "      <th>$\\Delta \\theta_{Na}$</th>\n",
       "    </tr>\n",
       "  </thead>\n",
       "  <tbody>\n",
       "    <tr>\n",
       "      <th>0</th>\n",
       "      <td>3.3176</td>\n",
       "      <td>0.0005</td>\n",
       "    </tr>\n",
       "  </tbody>\n",
       "</table>\n",
       "</div>"
      ],
      "text/plain": [
       "   $\\theta_{Na}$  $\\Delta \\theta_{Na}$\n",
       "0         3.3176                0.0005"
      ]
     },
     "metadata": {},
     "output_type": "display_data"
    },
    {
     "name": "stdout",
     "output_type": "stream",
     "text": [
      "----MESURES (SODIUM) AU RESEAU---\n",
      "lambda_moyen = 589.3 nm\n"
     ]
    },
    {
     "data": {
      "text/html": [
       "<div>\n",
       "<style scoped>\n",
       "    .dataframe tbody tr th:only-of-type {\n",
       "        vertical-align: middle;\n",
       "    }\n",
       "\n",
       "    .dataframe tbody tr th {\n",
       "        vertical-align: top;\n",
       "    }\n",
       "\n",
       "    .dataframe thead th {\n",
       "        text-align: right;\n",
       "    }\n",
       "</style>\n",
       "<table border=\"1\" class=\"dataframe\">\n",
       "  <thead>\n",
       "    <tr style=\"text-align: right;\">\n",
       "      <th></th>\n",
       "      <th>$\\theta_Hg$</th>\n",
       "      <th>$\\Delta \\theta_Hg$</th>\n",
       "    </tr>\n",
       "  </thead>\n",
       "  <tbody>\n",
       "    <tr>\n",
       "      <th>0</th>\n",
       "      <td>1.805</td>\n",
       "      <td>0.0005</td>\n",
       "    </tr>\n",
       "    <tr>\n",
       "      <th>1</th>\n",
       "      <td>1.806</td>\n",
       "      <td>0.0005</td>\n",
       "    </tr>\n",
       "  </tbody>\n",
       "</table>\n",
       "</div>"
      ],
      "text/plain": [
       "   $\\theta_Hg$  $\\Delta \\theta_Hg$\n",
       "0        1.805              0.0005\n",
       "1        1.806              0.0005"
      ]
     },
     "metadata": {},
     "output_type": "display_data"
    }
   ],
   "source": [
    "# Bibliothèque pour l'affichage des données\n",
    "# Le code de cette ccellule n'est pas à connaître\n",
    "import pandas as pd\n",
    "print(\"----MESURE DE L'ANGLE DE REFERENCE----\")\n",
    "df0 = pd.DataFrame({\n",
    "    r'$\\theta_0$': [theta0],\n",
    "    r'$\\Delta \\theta_0$': [deltatheta0]\n",
    "})\n",
    "\n",
    "display(df0)\n",
    "\n",
    "print(\"----MESURES DES ANGLES POUR LA MESURE DE A----\")\n",
    "dfA = pd.DataFrame({\n",
    "    r'$\\theta_{A}$': thetas_A,\n",
    "    r'$\\Delta \\theta_A$': deltathetas_A\n",
    "})\n",
    "\n",
    "display(dfA)\n",
    "\n",
    "print(\"----MESURES DES ANGLES POUR LE MERCURE----\")\n",
    "dfHg = pd.DataFrame({\n",
    "    r'$\\lambda$': lambda_Hg,\n",
    "    r'$\\theta_{Hg}$': theta_Hg,\n",
    "    r'$\\Delta \\theta_{Hg}$': deltatheta_Hg\n",
    "})\n",
    "\n",
    "display(dfHg)\n",
    "\n",
    "print(\"----MESURE DE L'ANGLE POUR LE SODIUM----\")\n",
    "dfNa = pd.DataFrame({\n",
    "    r'$\\theta_{Na}$': [theta_Na],\n",
    "    r'$\\Delta \\theta_{Na}$': [deltatheta_Na]\n",
    "})\n",
    "\n",
    "display(dfNa)\n",
    "\n",
    "print(\"----MESURES (SODIUM) AU RESEAU---\")\n",
    "print(\"lambda_moyen = {} nm\".format(589.3))\n",
    "dfNa_reseau = pd.DataFrame({\n",
    "    r'$\\theta_Hg$': theta_Na_r,\n",
    "    r'$\\Delta \\theta_Hg$': deltatheta_Na_r\n",
    "})\n",
    "\n",
    "display(dfNa_reseau)"
   ]
  },
  {
   "cell_type": "markdown",
   "id": "9968c080",
   "metadata": {},
   "source": [
    "### Rappels\n",
    "Pour rappel:\n",
    "* les angles de déviation se rapporte à l'angle de référence $\\theta_0$\n",
    "* l'angle $A$ s'obtient par $A = \\pi - (\\theta_{A2} - \\theta_{A1})$\n",
    "* la relation entre l'indice réfraction et l'angle déviation minimal est $n(\\lambda) = \\frac{\\sin\\left(\\frac{A + D_m}{2}\\right)}{\\sin\\left(\\frac{A}{2}\\right)}$"
   ]
  },
  {
   "cell_type": "markdown",
   "id": "21b69296",
   "metadata": {},
   "source": [
    "## Goniomètre à prisme\n",
    "### Etalonnage au mercure\n",
    "\n",
    "Utiliser les données précédentes (utiliser une méthode de Monte-Carlo pour les incertitudes) pour:\n",
    "1. Déterminer l'angle au sommet A du prisme ainsi que son incertitude.\n",
    "2. Déterminer les indices de réfraction pour chaque longueur d'onde du mercure ainsi que les incertitudes sur chaque indice.\n",
    "3. Déterminer les coefficients A et B de la loi de Cauchy ainsi que leurs incertitudes par une méthode de régression linéaire.\n",
    "4. Tracer sur un même graphique les points de mesures $n(??)$ et la droite d'étalonnage.\n",
    "5. Vérifier visuellement la cohérence. S'il y a des doutes sur des points, pensez à calculer l'écart normalisé."
   ]
  },
  {
   "cell_type": "code",
   "execution_count": null,
   "id": "84872576",
   "metadata": {},
   "outputs": [],
   "source": []
  },
  {
   "cell_type": "markdown",
   "id": "870c3feb",
   "metadata": {},
   "source": [
    "__Exploitation:__\n",
    "  \n",
    "  \n",
    "  \n",
    "  \n",
    "  \n",
    "  \n",
    "  \n",
    "  \n",
    "  \n",
    "  \n",
    "  \n",
    "  \n",
    "\n",
    "\n",
    "\n"
   ]
  },
  {
   "cell_type": "markdown",
   "id": "e42ae53f",
   "metadata": {},
   "source": [
    "### Mesure de la longueur d'onde du sodium\n",
    "Utiliser les données précédentes (utiliser une méthode de Monte-Carlo pour les incertitudes) pour:\n",
    "1. Déterminer l'indice de réfraction du prisme pour le doublet du sodium\n",
    "2. La longueur d'onde moyenne du doublet ainsi que son incertitude.\n",
    "3. La comparer à la valeur tabulée (valeur moyenne donnée précédemment) et commenter la qualité de la mesure."
   ]
  },
  {
   "cell_type": "code",
   "execution_count": null,
   "id": "7ab2dcd2",
   "metadata": {},
   "outputs": [],
   "source": []
  },
  {
   "cell_type": "markdown",
   "id": "daadffe2",
   "metadata": {},
   "source": [
    "__Exploitation :__\n",
    "\n",
    "\n",
    "\n",
    "\n",
    "\n",
    "\n",
    "\n",
    "\n",
    "\n",
    "\n",
    "\n",
    "\n"
   ]
  },
  {
   "cell_type": "markdown",
   "id": "8f2097cd",
   "metadata": {},
   "source": [
    "## Goniomètre à réseau\n",
    "Utiliser les données précédentes (utiliser une méthode de Monte-Carlo pour les incertitudes) pour:\n",
    "1. Déterminer, à partir de la longueur d'onde moyenne, le nombre de traits par millimètre du réseau. Le constructeur donne 600tr/mm (incertitude inconnue), commenter la cohérence avec la valeur mesurée.\n",
    "2. Déterminer avec le N mesuré, l'écart en longueur d'onde $\\Delta \\lambda$ du doublet et le comparer à la valeur tabulée $\\Delta \\lambda = 0.6 nm$."
   ]
  },
  {
   "cell_type": "code",
   "execution_count": null,
   "id": "b2d9648f",
   "metadata": {},
   "outputs": [],
   "source": []
  },
  {
   "cell_type": "markdown",
   "id": "36a5191f",
   "metadata": {},
   "source": [
    "__Exploitation :__\n",
    "\n",
    "\n",
    "\n",
    "\n",
    "\n",
    "\n",
    "\n",
    "\n",
    "\n",
    "\n",
    "\n",
    "\n"
   ]
  }
 ],
 "metadata": {
  "kernelspec": {
   "display_name": "Python 3 (ipykernel)",
   "language": "python",
   "name": "python3"
  },
  "language_info": {
   "codemirror_mode": {
    "name": "ipython",
    "version": 3
   },
   "file_extension": ".py",
   "mimetype": "text/x-python",
   "name": "python",
   "nbconvert_exporter": "python",
   "pygments_lexer": "ipython3",
   "version": "3.10.8"
  }
 },
 "nbformat": 4,
 "nbformat_minor": 5
}
