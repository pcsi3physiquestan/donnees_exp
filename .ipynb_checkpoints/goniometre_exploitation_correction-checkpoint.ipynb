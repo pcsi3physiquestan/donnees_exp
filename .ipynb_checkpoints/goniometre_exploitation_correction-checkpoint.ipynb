{
 "cells": [
  {
   "cell_type": "markdown",
   "id": "56ff83b7",
   "metadata": {},
   "source": [
    "# Goniomètre - Exploitation des données expérimentales\n",
    "\n",
    "Dans cette activité, vous devrez utiliser des données expérimentales obtenues lors de manipulations identiques à celles réalisées en TP pour:\n",
    "* Etalonner un goniomètre à prisme en déterminant les paramètres A et B de la loi de Cauchy\n",
    "$$\n",
    "n(\\lambda) = A + \\frac{B}{\\lambda^2}\n",
    "$$\n",
    "* Utiliser ces courbes d'étalonnage pour obtenir la longueur d'onde moyenne du doublet du sodium (qui ne pouvait être résolu par le prisme).\n",
    "* Obtenir, de la mesure de longueur d'onde moyenne précédente ET de la mesure de déviation par une goniomètre à réseau le nombre de traits/mm N du réseau\n",
    "* Utiliser la longueur d'onde moyenne du doublet et les mesures séparées des angles de déviation pour chaque longueur d'onde du doublet pour obtenir la largeur $\\Delta \\lambda$ du doublet du sodium au réseau."
   ]
  },
  {
   "cell_type": "markdown",
   "id": "c716924e",
   "metadata": {},
   "source": [
    "## Données expérimentales\n",
    "Les données expérimentales sont entrées dans la cellule de code suivante.  \n",
    "_La partie utilisant la bibliothèque pandas n'est pas à connaître. Elle sert juste ici pour mettre en forme l'affichage des résultats._\n",
    "\n",
    "__Notes sur les incertitudes:__  \n",
    "* On considèrera l'incertitude sur toutes les longueurs d'onde _référencées_ comme négligeables.\n",
    "* les `delta` données ne correspondent pas à l'incertitude des mesurandes directes mais __à la demi-largeur de la distribution uniforme estimée lors de la mesure.__\n",
    "    * Conséquence pour une simulation de Monte-Carlo : vous pouvez utiliser directement ces demi-largeur.\n",
    "    * Conséquence pour une propagation des variances : l'incertitude-type associée est alors $\\frac{demi-largeur}{\\sqrt{3}}$\n",
    "* On a considéré que l'incertitude à la lecture des angles était la seule source d'incertitude."
   ]
  },
  {
   "cell_type": "code",
   "execution_count": 18,
   "id": "86c2f697",
   "metadata": {},
   "outputs": [],
   "source": [
    "# Bibliothèques scientifiques\n",
    "import numpy as np\n",
    "import matplotlib.pyplot as plt\n",
    "\n",
    "# Goniomètre - Faisceau incident\n",
    "theta_0 = 2.6011  # Angle repéré (rad) pour la visée du faisceau incident\n",
    "deltatheta_0 = 6e-4  # Demie-largeur (rad) associée à la mesure de theta0\n",
    "\n",
    "# Goniomètre - Mesure de l'angle A\n",
    "thetas_A = np.array([0.4608, 2.554])  # Angles aux normales des faces du prisme\n",
    "deltathetas_A = np.array([6e-4]*2)  # Demie-largeur sur les incertitudes des mesures précédentes.\n",
    "\n",
    "\n",
    "# Goniomètre à prisme - Cas du mercure\n",
    "lambda_Hg = np.array([404.7, 407.8, 435.8, 491.6, 546.1, 578])  # Longueurs d'onde (nm) du mercure\n",
    "theta_Hg = np.array([3.3385, 3.3379, 3.3333, 3.3263, 3.3205, 3.3181])  # Angles sous lequel sont observés les rayons déviés (rad) mesurés\n",
    "deltatheta_Hg = np.array([6e-4]*6)  # Demie-largeur (rad) associée à l'incertitude les mesures des angles précédents\n",
    "\n",
    "# Goniomètre à prisme - Cas du sodium\n",
    "theta_Na = 3.3176  # Angle sous lequel était observé le doublet (= une seule raie ici)\n",
    "deltatheta_Na = 6e-4  # Demie-largeur (rad) associée à l'incertitude sur la mesure précédente\n",
    "\n",
    "# Goniomètre à réseau - Cas du sodium\n",
    "lambda_Na_moy = 589.3  # Longueur d'onde moyenne (nm) du doublet du sodium\n",
    "p = -2  # Ordre d'interférence observé\n",
    "theta_Na_r = np.array([1.8050, 1.8064]) # Angle d'observation des deux raies du doublet pour l'ordre précédent.\n",
    "deltatheta_Na_r = np.array([6e-4]*2)  # Demie-largeur (rad) associée aux incertitudes sur les mesures précédentes."
   ]
  },
  {
   "cell_type": "code",
   "execution_count": 19,
   "id": "232212d8",
   "metadata": {},
   "outputs": [
    {
     "name": "stdout",
     "output_type": "stream",
     "text": [
      "----MESURE DE L'ANGLE DE REFERENCE----\n"
     ]
    },
    {
     "data": {
      "text/html": [
       "<div>\n",
       "<style scoped>\n",
       "    .dataframe tbody tr th:only-of-type {\n",
       "        vertical-align: middle;\n",
       "    }\n",
       "\n",
       "    .dataframe tbody tr th {\n",
       "        vertical-align: top;\n",
       "    }\n",
       "\n",
       "    .dataframe thead th {\n",
       "        text-align: right;\n",
       "    }\n",
       "</style>\n",
       "<table border=\"1\" class=\"dataframe\">\n",
       "  <thead>\n",
       "    <tr style=\"text-align: right;\">\n",
       "      <th></th>\n",
       "      <th>$\\theta_0$</th>\n",
       "      <th>$\\Delta \\theta_0$</th>\n",
       "    </tr>\n",
       "  </thead>\n",
       "  <tbody>\n",
       "    <tr>\n",
       "      <th>0</th>\n",
       "      <td>2.6011</td>\n",
       "      <td>0.0006</td>\n",
       "    </tr>\n",
       "  </tbody>\n",
       "</table>\n",
       "</div>"
      ],
      "text/plain": [
       "   $\\theta_0$  $\\Delta \\theta_0$\n",
       "0      2.6011             0.0006"
      ]
     },
     "metadata": {},
     "output_type": "display_data"
    },
    {
     "name": "stdout",
     "output_type": "stream",
     "text": [
      "----MESURES DES ANGLES POUR LA MESURE DE A----\n"
     ]
    },
    {
     "data": {
      "text/html": [
       "<div>\n",
       "<style scoped>\n",
       "    .dataframe tbody tr th:only-of-type {\n",
       "        vertical-align: middle;\n",
       "    }\n",
       "\n",
       "    .dataframe tbody tr th {\n",
       "        vertical-align: top;\n",
       "    }\n",
       "\n",
       "    .dataframe thead th {\n",
       "        text-align: right;\n",
       "    }\n",
       "</style>\n",
       "<table border=\"1\" class=\"dataframe\">\n",
       "  <thead>\n",
       "    <tr style=\"text-align: right;\">\n",
       "      <th></th>\n",
       "      <th>$\\theta_{A}$</th>\n",
       "      <th>$\\Delta \\theta_A$</th>\n",
       "    </tr>\n",
       "  </thead>\n",
       "  <tbody>\n",
       "    <tr>\n",
       "      <th>0</th>\n",
       "      <td>0.4608</td>\n",
       "      <td>0.0006</td>\n",
       "    </tr>\n",
       "    <tr>\n",
       "      <th>1</th>\n",
       "      <td>2.5540</td>\n",
       "      <td>0.0006</td>\n",
       "    </tr>\n",
       "  </tbody>\n",
       "</table>\n",
       "</div>"
      ],
      "text/plain": [
       "   $\\theta_{A}$  $\\Delta \\theta_A$\n",
       "0        0.4608             0.0006\n",
       "1        2.5540             0.0006"
      ]
     },
     "metadata": {},
     "output_type": "display_data"
    },
    {
     "name": "stdout",
     "output_type": "stream",
     "text": [
      "----MESURES DES ANGLES POUR LE MERCURE----\n"
     ]
    },
    {
     "data": {
      "text/html": [
       "<div>\n",
       "<style scoped>\n",
       "    .dataframe tbody tr th:only-of-type {\n",
       "        vertical-align: middle;\n",
       "    }\n",
       "\n",
       "    .dataframe tbody tr th {\n",
       "        vertical-align: top;\n",
       "    }\n",
       "\n",
       "    .dataframe thead th {\n",
       "        text-align: right;\n",
       "    }\n",
       "</style>\n",
       "<table border=\"1\" class=\"dataframe\">\n",
       "  <thead>\n",
       "    <tr style=\"text-align: right;\">\n",
       "      <th></th>\n",
       "      <th>$\\lambda$</th>\n",
       "      <th>$\\theta_{Hg}$</th>\n",
       "      <th>$\\Delta \\theta_{Hg}$</th>\n",
       "    </tr>\n",
       "  </thead>\n",
       "  <tbody>\n",
       "    <tr>\n",
       "      <th>0</th>\n",
       "      <td>404.7</td>\n",
       "      <td>3.3385</td>\n",
       "      <td>0.0006</td>\n",
       "    </tr>\n",
       "    <tr>\n",
       "      <th>1</th>\n",
       "      <td>407.8</td>\n",
       "      <td>3.3379</td>\n",
       "      <td>0.0006</td>\n",
       "    </tr>\n",
       "    <tr>\n",
       "      <th>2</th>\n",
       "      <td>435.8</td>\n",
       "      <td>3.3333</td>\n",
       "      <td>0.0006</td>\n",
       "    </tr>\n",
       "    <tr>\n",
       "      <th>3</th>\n",
       "      <td>491.6</td>\n",
       "      <td>3.3263</td>\n",
       "      <td>0.0006</td>\n",
       "    </tr>\n",
       "    <tr>\n",
       "      <th>4</th>\n",
       "      <td>546.1</td>\n",
       "      <td>3.3205</td>\n",
       "      <td>0.0006</td>\n",
       "    </tr>\n",
       "    <tr>\n",
       "      <th>5</th>\n",
       "      <td>578.0</td>\n",
       "      <td>3.3181</td>\n",
       "      <td>0.0006</td>\n",
       "    </tr>\n",
       "  </tbody>\n",
       "</table>\n",
       "</div>"
      ],
      "text/plain": [
       "   $\\lambda$  $\\theta_{Hg}$  $\\Delta \\theta_{Hg}$\n",
       "0      404.7         3.3385                0.0006\n",
       "1      407.8         3.3379                0.0006\n",
       "2      435.8         3.3333                0.0006\n",
       "3      491.6         3.3263                0.0006\n",
       "4      546.1         3.3205                0.0006\n",
       "5      578.0         3.3181                0.0006"
      ]
     },
     "metadata": {},
     "output_type": "display_data"
    },
    {
     "name": "stdout",
     "output_type": "stream",
     "text": [
      "----MESURE DE L'ANGLE POUR LE SODIUM----\n"
     ]
    },
    {
     "data": {
      "text/html": [
       "<div>\n",
       "<style scoped>\n",
       "    .dataframe tbody tr th:only-of-type {\n",
       "        vertical-align: middle;\n",
       "    }\n",
       "\n",
       "    .dataframe tbody tr th {\n",
       "        vertical-align: top;\n",
       "    }\n",
       "\n",
       "    .dataframe thead th {\n",
       "        text-align: right;\n",
       "    }\n",
       "</style>\n",
       "<table border=\"1\" class=\"dataframe\">\n",
       "  <thead>\n",
       "    <tr style=\"text-align: right;\">\n",
       "      <th></th>\n",
       "      <th>$\\theta_{Na}$</th>\n",
       "      <th>$\\Delta \\theta_{Na}$</th>\n",
       "    </tr>\n",
       "  </thead>\n",
       "  <tbody>\n",
       "    <tr>\n",
       "      <th>0</th>\n",
       "      <td>3.3176</td>\n",
       "      <td>0.0006</td>\n",
       "    </tr>\n",
       "  </tbody>\n",
       "</table>\n",
       "</div>"
      ],
      "text/plain": [
       "   $\\theta_{Na}$  $\\Delta \\theta_{Na}$\n",
       "0         3.3176                0.0006"
      ]
     },
     "metadata": {},
     "output_type": "display_data"
    },
    {
     "name": "stdout",
     "output_type": "stream",
     "text": [
      "----MESURES (SODIUM) AU RESEAU---\n",
      "lambda_moyen = 589.3 nm\n"
     ]
    },
    {
     "data": {
      "text/html": [
       "<div>\n",
       "<style scoped>\n",
       "    .dataframe tbody tr th:only-of-type {\n",
       "        vertical-align: middle;\n",
       "    }\n",
       "\n",
       "    .dataframe tbody tr th {\n",
       "        vertical-align: top;\n",
       "    }\n",
       "\n",
       "    .dataframe thead th {\n",
       "        text-align: right;\n",
       "    }\n",
       "</style>\n",
       "<table border=\"1\" class=\"dataframe\">\n",
       "  <thead>\n",
       "    <tr style=\"text-align: right;\">\n",
       "      <th></th>\n",
       "      <th>$\\theta_Hg$</th>\n",
       "      <th>$\\Delta \\theta_Hg$</th>\n",
       "    </tr>\n",
       "  </thead>\n",
       "  <tbody>\n",
       "    <tr>\n",
       "      <th>0</th>\n",
       "      <td>1.8050</td>\n",
       "      <td>0.0006</td>\n",
       "    </tr>\n",
       "    <tr>\n",
       "      <th>1</th>\n",
       "      <td>1.8064</td>\n",
       "      <td>0.0006</td>\n",
       "    </tr>\n",
       "  </tbody>\n",
       "</table>\n",
       "</div>"
      ],
      "text/plain": [
       "   $\\theta_Hg$  $\\Delta \\theta_Hg$\n",
       "0       1.8050              0.0006\n",
       "1       1.8064              0.0006"
      ]
     },
     "metadata": {},
     "output_type": "display_data"
    }
   ],
   "source": [
    "# Bibliothèque pour l'affichage des données\n",
    "# Le code de cette ccellule n'est pas à connaître\n",
    "import pandas as pd\n",
    "print(\"----MESURE DE L'ANGLE DE REFERENCE----\")\n",
    "df0 = pd.DataFrame({\n",
    "    r'$\\theta_0$': [theta_0],\n",
    "    r'$\\Delta \\theta_0$': [deltatheta_0]\n",
    "})\n",
    "\n",
    "display(df0)\n",
    "\n",
    "print(\"----MESURES DES ANGLES POUR LA MESURE DE A----\")\n",
    "dfA = pd.DataFrame({\n",
    "    r'$\\theta_{A}$': thetas_A,\n",
    "    r'$\\Delta \\theta_A$': deltathetas_A\n",
    "})\n",
    "\n",
    "display(dfA)\n",
    "\n",
    "print(\"----MESURES DES ANGLES POUR LE MERCURE----\")\n",
    "dfHg = pd.DataFrame({\n",
    "    r'$\\lambda$': lambda_Hg,\n",
    "    r'$\\theta_{Hg}$': theta_Hg,\n",
    "    r'$\\Delta \\theta_{Hg}$': deltatheta_Hg\n",
    "})\n",
    "\n",
    "display(dfHg)\n",
    "\n",
    "print(\"----MESURE DE L'ANGLE POUR LE SODIUM----\")\n",
    "dfNa = pd.DataFrame({\n",
    "    r'$\\theta_{Na}$': [theta_Na],\n",
    "    r'$\\Delta \\theta_{Na}$': [deltatheta_Na]\n",
    "})\n",
    "\n",
    "display(dfNa)\n",
    "\n",
    "print(\"----MESURES (SODIUM) AU RESEAU---\")\n",
    "print(\"lambda_moyen = {} nm\".format(589.3))\n",
    "dfNa_reseau = pd.DataFrame({\n",
    "    r'$\\theta_Hg$': theta_Na_r,\n",
    "    r'$\\Delta \\theta_Hg$': deltatheta_Na_r\n",
    "})\n",
    "\n",
    "display(dfNa_reseau)"
   ]
  },
  {
   "cell_type": "markdown",
   "id": "9968c080",
   "metadata": {},
   "source": [
    "### Rappels\n",
    "Pour rappel:\n",
    "* les angles de déviation se rapporte à l'angle de référence $\\theta_0$\n",
    "* l'angle $A$ s'obtient par $A = \\pi - (\\theta_{A2} - \\theta_{A1})$\n",
    "* la relation entre l'indice réfraction et l'angle déviation minimal est $n(\\lambda) = \\frac{\\sin\\left(\\frac{A + D_m}{2}\\right)}{\\sin\\left(\\frac{A}{2}\\right)}$"
   ]
  },
  {
   "cell_type": "markdown",
   "id": "21b69296",
   "metadata": {},
   "source": [
    "## Goniomètre à prisme\n",
    "### Etalonnage au mercure\n",
    "\n",
    "Utiliser les données précédentes (utiliser une méthode de Monte-Carlo pour les incertitudes) pour:\n",
    "1. Déterminer l'angle au sommet A du prisme ainsi que son incertitude.\n",
    "2. Déterminer les indices de réfraction pour chaque longueur d'onde du mercure ainsi que les incertitudes sur chaque indice.\n",
    "3. Déterminer les coefficients A et B de la loi de Cauchy ainsi que leurs incertitudes par une méthode de régression linéaire.\n",
    "4. Tracer sur un même graphique les points de mesures $n(??)$ et la droite d'étalonnage.\n",
    "5. Vérifier visuellement la cohérence. S'il y a des doutes sur des points, pensez à calculer l'écart normalisé."
   ]
  },
  {
   "cell_type": "code",
   "execution_count": 20,
   "id": "84872576",
   "metadata": {},
   "outputs": [
    {
     "name": "stdout",
     "output_type": "stream",
     "text": [
      "A = 1.04839 +/- 0.00049 rad\n"
     ]
    },
    {
     "data": {
      "text/html": [
       "<div>\n",
       "<style scoped>\n",
       "    .dataframe tbody tr th:only-of-type {\n",
       "        vertical-align: middle;\n",
       "    }\n",
       "\n",
       "    .dataframe tbody tr th {\n",
       "        vertical-align: top;\n",
       "    }\n",
       "\n",
       "    .dataframe thead th {\n",
       "        text-align: right;\n",
       "    }\n",
       "</style>\n",
       "<table border=\"1\" class=\"dataframe\">\n",
       "  <thead>\n",
       "    <tr style=\"text-align: right;\">\n",
       "      <th></th>\n",
       "      <th>$\\lambda$</th>\n",
       "      <th>n</th>\n",
       "      <th>u(n)</th>\n",
       "    </tr>\n",
       "  </thead>\n",
       "  <tbody>\n",
       "    <tr>\n",
       "      <th>0</th>\n",
       "      <td>404.7</td>\n",
       "      <td>1.556173</td>\n",
       "      <td>0.000126</td>\n",
       "    </tr>\n",
       "    <tr>\n",
       "      <th>1</th>\n",
       "      <td>407.8</td>\n",
       "      <td>1.555797</td>\n",
       "      <td>0.000125</td>\n",
       "    </tr>\n",
       "    <tr>\n",
       "      <th>2</th>\n",
       "      <td>435.8</td>\n",
       "      <td>1.552909</td>\n",
       "      <td>0.000125</td>\n",
       "    </tr>\n",
       "    <tr>\n",
       "      <th>3</th>\n",
       "      <td>491.6</td>\n",
       "      <td>1.548500</td>\n",
       "      <td>0.000124</td>\n",
       "    </tr>\n",
       "    <tr>\n",
       "      <th>4</th>\n",
       "      <td>546.1</td>\n",
       "      <td>1.544833</td>\n",
       "      <td>0.000124</td>\n",
       "    </tr>\n",
       "    <tr>\n",
       "      <th>5</th>\n",
       "      <td>578.0</td>\n",
       "      <td>1.543311</td>\n",
       "      <td>0.000124</td>\n",
       "    </tr>\n",
       "  </tbody>\n",
       "</table>\n",
       "</div>"
      ],
      "text/plain": [
       "   $\\lambda$         n      u(n)\n",
       "0      404.7  1.556173  0.000126\n",
       "1      407.8  1.555797  0.000125\n",
       "2      435.8  1.552909  0.000125\n",
       "3      491.6  1.548500  0.000124\n",
       "4      546.1  1.544833  0.000124\n",
       "5      578.0  1.543311  0.000124"
      ]
     },
     "metadata": {},
     "output_type": "display_data"
    },
    {
     "data": {
      "image/png": "[encoded data removed]",
      "text/plain": [
       "<Figure size 640x480 with 1 Axes>"
      ]
     },
     "metadata": {},
     "output_type": "display_data"
    },
    {
     "name": "stdout",
     "output_type": "stream",
     "text": [
      "Dans la relation n(lambda) = A + B / lambda^2, la régression linéaire donne:\n",
      "A = 1.53113 +/- 0.00013 \n",
      "B = 4117 +/- 11 nm^2\n"
     ]
    },
    {
     "data": {
      "image/png": "[encoded data removed]",
      "text/plain": [
       "<Figure size 1000x800 with 2 Axes>"
      ]
     },
     "metadata": {},
     "output_type": "display_data"
    }
   ],
   "source": [
    "import numpy.random as rd\n",
    "Nsim = 100000  # Nombre de simulations pour Monte-Carlo\n",
    "# ----Préparation pour Monte-Carlo ----\n",
    "# Pour préparer Monte-Carlo, on simulation de suite tous les mesurandes directes\n",
    "## Pour l'angle d'incidence\n",
    "theta_0_sim = theta_0 + rd.uniform(-deltatheta_0, deltatheta_0, Nsim)\n",
    "## Pour l'angle A\n",
    "thetas_A_sim = thetas_A + rd.uniform(-deltathetas_A, deltathetas_A, (Nsim, 2))\n",
    "## Prisme - Mercure\n",
    "nlambda = len(theta_Hg)\n",
    "theta_Hg_sim = theta_Hg + rd.uniform(-deltatheta_Hg, deltatheta_Hg, (Nsim, nlambda))\n",
    "## Prisme - Sodium\n",
    "theta_Na_sim = theta_Na + rd.uniform(-deltatheta_Na, deltatheta_Na, Nsim)\n",
    "## Reseau - Sodium\n",
    "theta_Nar_sim = theta_Na_r + rd.uniform(-deltatheta_Na_r, deltatheta_Na_r, (Nsim, 2))\n",
    "\n",
    "\n",
    "# ---- Angle au sommet ----\n",
    "A_m = np.pi - (thetas_A[1]-thetas_A[0])\n",
    "A_sim = thetas_A_sim[:,1] - thetas_A_sim[:,0]  # Même formule avec chaque colonne de valeurs simulées\n",
    "A_u = np.std(A_sim, ddof=1)\n",
    "\n",
    "print(\"A = {:.5f} +/- {:.5f} rad\".format(A_m, A_u))\n",
    "\n",
    "# ---- Indices de réfraction ----\n",
    "Ds_m = theta_Hg - theta_0\n",
    "ns_m = np.sin((Ds_m + A_m) / 2) / np.sin(A_m / 2)\n",
    "Ds_sim = theta_Hg_sim - np.transpose([theta_0_sim]*6)\n",
    "ns_sim = np.sin((Ds_sim + np.transpose([A_sim]*6)) / 2) / np.transpose([np.sin(A_sim / 2)]*6)\n",
    "ns_u = np.std(ns_sim, ddof=1, axis=0)\n",
    "\n",
    "## Juste un joli affichage - pas à connaître\n",
    "display(pd.DataFrame({\n",
    "    r'$\\lambda$': lambda_Hg,\n",
    "    'n': ns_m,\n",
    "    'u(n)': ns_u\n",
    "}))\n",
    "\n",
    "## On teste si l'adéquation à la loi de Cauchy peut visuellement être acceptable en traçant n(1/lambda^2)\n",
    "inv_lamb2 = lambda_Hg**(-2)\n",
    "\n",
    "f, ax = plt.subplots()\n",
    "f.suptitle(\"Loi de Cauchy pour le prisme\")\n",
    "ax.set_xlabel(r'$1/\\lambda^2(nm^{-2})$')\n",
    "ax.set_ylabel('n')\n",
    "ax.errorbar(inv_lamb2, ns_m, yerr=ns_u, marker=\"+\", linestyle='', color='black')\n",
    "ax.grid()\n",
    "plt.show()\n",
    "\n",
    "# ---- Loi de Cauchy ----\n",
    "## On va réaliser une régression linéaire puis la répéter Nsim fois pour Monte-Carlo\n",
    "params_m = np.polyfit(inv_lamb2, ns_m, 1)\n",
    "\n",
    "params_sim = np.polyfit(inv_lamb2, ns_sim.transpose(), 1)  # Pas d'incertitude sur X, polyfit gère tout seule les multiples simulations !\n",
    "params_u = np.std(params_sim, ddof=1, axis=1)\n",
    "\n",
    "print(\"Dans la relation n(lambda) = A + B / lambda^2, la régression linéaire donne:\")\n",
    "print(\"A = {:.5f} +/- {:.5f} \".format(params_m[1], params_u[1]))\n",
    "print(\"B = {:.0f} +/- {:.0f} nm^2\".format(params_m[0], params_u[0]))\n",
    "\n",
    "ns_fit = params_m[0] * inv_lamb2 + params_m[1]\n",
    "ns_fit_sim = np.array([x * params_sim[0] + params_sim[1] for x in inv_lamb2])  # Pas possible ici d'utiliser la vectorialisation\n",
    "ns_fit_u = np.std(ns_fit_sim, ddof=1, axis=1)\n",
    "\n",
    "f, ax = plt.subplots(2, 1, figsize=(10,8), sharex='col')\n",
    "f.suptitle(\"Test de l'expérience\")\n",
    "ax[0].set_xlabel(r'$1/\\lambda^2(nm^{-2})$')\n",
    "ax[0].set_ylabel('n')\n",
    "ax[0].errorbar(inv_lamb2, ns_m, yerr=ns_u, marker=\"+\", linestyle='', color='black')\n",
    "ax[0].plot(inv_lamb2, ns_fit, linestyle='--', color='red')\n",
    "ax[0].grid()\n",
    "\n",
    "en = (ns_fit - ns_m) / np.sqrt(ns_u**2 + ns_fit_u**2)\n",
    "\n",
    "ax[1].set_xlabel(r'$1/\\lambda^2(nm^{-2})$')\n",
    "ax[1].set_ylabel('en')\n",
    "ax[1].plot(inv_lamb2, en, linestyle='--', color='red')\n",
    "ax[1].grid()"
   ]
  },
  {
   "cell_type": "markdown",
   "id": "de22dd6f",
   "metadata": {},
   "source": [
    "_La droite d'ajustement passant presque par toutes les barres d'incertitude. On a calculé les écarts normalisées qui sont tous entre -2 et 2, on peut valider l'adéquation entre le modèle et l'expérience réalisée._\n",
    "\n",
    "#### BONUS : Fuseau pour l'étalonnage.\n",
    "La droite d'ajustement précédente va servir d'étallonnage pour la mesure de la longueur d'onde du sodium (ou d'autrs !). Il peut-être utile alors de représenter _sur le graphique_ la largeur de l'incertitude qu'on aurait pour chaque valeur de $\\lambda$."
   ]
  },
  {
   "cell_type": "code",
   "execution_count": 21,
   "id": "b3289eb7",
   "metadata": {},
   "outputs": [
    {
     "data": {
      "image/png": "[encoded data removed]",
      "text/plain": [
       "<Figure size 640x480 with 1 Axes>"
      ]
     },
     "metadata": {},
     "output_type": "display_data"
    }
   ],
   "source": [
    "lambdas = np.linspace(400, 800, 1000)  # 1000 points dans le visible\n",
    "inv_lamb2s = lambdas ** (-2)\n",
    "ns_fit_m = params_m[0] * inv_lamb2s + params_m[1]\n",
    "ns_fit_sim = np.array([x * params_sim[0] + params_sim[1] for x in inv_lamb2s])  # Pas possible ici d'utiliser la vectorialisation\n",
    "ns_fit_u = np.std(ns_fit_sim, ddof=1, axis=1)\n",
    "\n",
    "f, ax = plt.subplots()\n",
    "f.suptitle(\"Courbe d'etalonnage\")\n",
    "ax.set_xlabel(r'$1/\\lambda^2(nm^{-2})$')\n",
    "ax.set_ylabel('n')\n",
    "ax.plot(inv_lamb2s, ns_fit_m, linestyle='-', color='red')\n",
    "ax.plot(inv_lamb2s, ns_fit_m - ns_fit_u, linestyle='--', color='red', linewidth=1)\n",
    "ax.plot(inv_lamb2s, ns_fit_m + ns_fit_u, linestyle='--', color='red', linewidth=1)\n",
    "ax.grid()\n",
    "plt.show()\n",
    "\n"
   ]
  },
  {
   "cell_type": "markdown",
   "id": "e42ae53f",
   "metadata": {},
   "source": [
    "### Mesure de la longueur d'onde du sodium\n",
    "Utiliser les données précédentes (utiliser une méthode de Monte-Carlo pour les incertitudes) pour:\n",
    "1. Déterminer l'indice de réfraction du prisme pour le doublet du sodium\n",
    "2. La longueur d'onde moyenne du doublet ainsi que son incertitude.\n",
    "3. La comparer à la valeur tabulée (valeur moyenne donnée précédemment) et commenter la qualité de la mesure."
   ]
  },
  {
   "cell_type": "code",
   "execution_count": 22,
   "id": "7ab2dcd2",
   "metadata": {},
   "outputs": [
    {
     "name": "stdout",
     "output_type": "stream",
     "text": [
      "n_Na = 1.542994 +/- 0.000114\n",
      "lambda_Na = 589.1 +/- 7.0\n",
      "EN =  -0.026\n"
     ]
    }
   ],
   "source": [
    "# Détermination de D et n pour le doublet\n",
    "D_Na_m = theta_Na - theta_0\n",
    "n_Na_m = np.sin((D_Na_m + A_m)/2) / np.sin(A_m/2)\n",
    "\n",
    "D_Na_sim = theta_Na - theta_0\n",
    "n_Na_sim = np.sin((D_Na_sim + A_sim)/2) / np.sin(A_sim/2)\n",
    "n_Na_u = np.std(n_Na_sim, ddof=1)\n",
    "\n",
    "print(\"n_Na = {:.6f} +/- {:.6f}\".format(n_Na_m, n_Na_u))\n",
    "\n",
    "# Calcul de lambda par inversion de la relation ajustée entre n et 1/lambda^2\n",
    "lambda_Na_m = ((n_Na_m - params_m[1]) / params_m[0])**(-1/2)\n",
    "lambda_Na_sim = ((n_Na_sim - params_sim[1]) / params_sim[0])**(-1/2)\n",
    "lambda_Na_u = np.std(lambda_Na_sim, ddof=1)\n",
    "\n",
    "print(\"lambda_Na = {:.1f} +/- {:.1f}\".format(lambda_Na_m, lambda_Na_u))\n",
    "en = (lambda_Na_m - lambda_Na_moy) / lambda_Na_u\n",
    "print(\"EN =  {:.3f}\".format(en))"
   ]
  },
  {
   "cell_type": "markdown",
   "id": "8f2097cd",
   "metadata": {},
   "source": [
    "## Goniomètre à réseau\n",
    "Utiliser les données précédentes (utiliser la propagation des variances pour les incertitudes) pour:\n",
    "1. Déterminer, à partir de la longueur d'onde moyenne, le nombre de traits par millimètre du réseau. Le constructeur donne 600tr/mm (incertitude inconnue), commenter la cohérence avec la valeur mesurée.\n",
    "2. Déterminer avec le N mesuré, l'écart en longueur d'onde $\\Delta \\lambda$ du doublet et le comparer à la valeur tabulée $\\Delta \\lambda = 0.6 nm$."
   ]
  },
  {
   "cell_type": "code",
   "execution_count": 33,
   "id": "b2d9648f",
   "metadata": {},
   "outputs": [
    {
     "name": "stdout",
     "output_type": "stream",
     "text": [
      "N = 605.93 +/- 0.25 traits/mm\n",
      "Delta lambda = 0.81 +/- 0.28 nm\n",
      "EN = 0.74\n"
     ]
    }
   ],
   "source": [
    "# Calcul du nombre de traits\n",
    "D_Na_r = np.mean(theta_Na_r) - theta_0  # On prend la moyenne des positions des deux raies\n",
    "N_m = np.sin(D_Na_r)/(lambda_Na_moy * p)\n",
    "\n",
    "D_Na_r_sim = np.mean(theta_Nar_sim, axis=1) - theta_0_sim\n",
    "N_sim = np.sin(D_Na_r_sim)/(lambda_Na_moy * p)\n",
    "N_u = np.std(N_sim, ddof=1)\n",
    "\n",
    "print(\"N = {:.2f} +/- {:.2f} traits/mm\".format(N_m * 1e6, N_u * 1e6))  # On passe en traits/mm\n",
    "\n",
    "Delta_lambda_m = (np.sin(theta_Na_r[0] - theta_0) - np.sin(theta_Na_r[1] - theta_0)) / (p * N_m)\n",
    "Delta_lambda_sim = (np.sin(theta_Nar_sim[:,0] - theta_0_sim) - np.sin(theta_Nar_sim[:,1] - theta_0_sim)) / (p * N_sim)\n",
    "Delta_lambda_u = np.std(Delta_lambda_sim, ddof=1)\n",
    "print(\"Delta lambda = {:.2f} +/- {:.2f} nm\".format(Delta_lambda_m, Delta_lambda_u))  # N_m étant en traits/nm, la longueur est exprimée en nm\n",
    "\n",
    "Delta_lambda_ref = 0.6\n",
    "en = (Delta_lambda_m - Delta_lambda_ref) / Delta_lambda_u\n",
    "print(\"EN = {:.2f}\".format(en))"
   ]
  },
  {
   "cell_type": "markdown",
   "id": "db2c967f",
   "metadata": {},
   "source": [
    "On peut considérer que l'expérience a été bien menée car son résultat est cohérent avec la valeur tabulée."
   ]
  }
 ],
 "metadata": {
  "kernelspec": {
   "display_name": "Python 3 (ipykernel)",
   "language": "python",
   "name": "python3"
  },
  "language_info": {
   "codemirror_mode": {
    "name": "ipython",
    "version": 3
   },
   "file_extension": ".py",
   "mimetype": "text/x-python",
   "name": "python",
   "nbconvert_exporter": "python",
   "pygments_lexer": "ipython3",
   "version": "3.10.8"
  }
 },
 "nbformat": 4,
 "nbformat_minor": 5
}
